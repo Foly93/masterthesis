{
 "cells": [
  {
   "cell_type": "code",
   "execution_count": 1,
   "metadata": {},
   "outputs": [],
   "source": [
    "# Prerequisite\n",
    "\n",
    "import pandas as pd\n",
    "df = pd.read_csv(\"../../input/cp_annotations.csv\")"
   ]
  },
  {
   "cell_type": "code",
   "execution_count": 28,
   "metadata": {},
   "outputs": [],
   "source": [
    "# 1. Get Relevant Identifiers from Annotations File\n",
    "df = df.loc[:,['inchikey','CPD_SMILES']]\n",
    "df['duplicateinchikey'] = df['inchikey'].duplicated(keep=False)\n",
    "df['duplicateSMILES'] = df['CPD_SMILES'].duplicated(keep=False)"
   ]
  },
  {
   "cell_type": "code",
   "execution_count": 30,
   "metadata": {},
   "outputs": [],
   "source": [
    "# 2. Get Relevant Rows in sorted order\n",
    "df = df.query('duplicateSMILES == True')\n",
    "df = df.dropna(subset=['CPD_SMILES'])\n",
    "df = df.dropna(subset=['inchikey'])\n",
    "df = df[~df.duplicateinchikey == False]\n",
    "df = df.sort_values(by=['CPD_SMILES'])"
   ]
  },
  {
   "cell_type": "code",
   "execution_count": 31,
   "metadata": {},
   "outputs": [],
   "source": [
    "#### this shows that the conversion algorithm not fully works... \n",
    "#### SMILES get converted to inchi but some duplicates get Nan... why??"
   ]
  },
  {
   "cell_type": "code",
   "execution_count": 38,
   "metadata": {},
   "outputs": [
    {
     "data": {
      "text/plain": [
       "(198, 198)"
      ]
     },
     "execution_count": 38,
     "metadata": {},
     "output_type": "execute_result"
    }
   ],
   "source": [
    "df.CPD_SMILES.drop_duplicates().shape[0], df.inchikey.drop_duplicates().shape[0]"
   ]
  },
  {
   "cell_type": "code",
   "execution_count": 14,
   "metadata": {},
   "outputs": [],
   "source": [
    "df = df.dropna(subset=['CPD_SMILES'])"
   ]
  }
 ],
 "metadata": {
  "kernelspec": {
   "display_name": "Python 3",
   "language": "python",
   "name": "python3"
  },
  "language_info": {
   "codemirror_mode": {
    "name": "ipython",
    "version": 3
   },
   "file_extension": ".py",
   "mimetype": "text/x-python",
   "name": "python",
   "nbconvert_exporter": "python",
   "pygments_lexer": "ipython3",
   "version": "3.8.3"
  }
 },
 "nbformat": 4,
 "nbformat_minor": 4
}
