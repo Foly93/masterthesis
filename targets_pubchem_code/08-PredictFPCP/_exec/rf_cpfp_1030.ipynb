{
 "cells": [
  {
   "cell_type": "markdown",
   "metadata": {},
   "source": [
    "# Random Forest Classifier with CP-Assay and PubChem AID-1030\n",
    "This Jupyter notebook tried to predict the Pubchem Assay with the AID 1030 using morphological fingerprints from the Cell-Painting assay from Bray et al. Several techniques like SMOTE, Halving Random Search and Nested Cross-Validation are implemented. The Notebook conducts the following steps:\n",
    "0. Import Modules and define Functions\n",
    "1. Combine Important features of CP and MF\n",
    "2. Prepare the Data for Training\n",
    "3. Train a Random Forest Model with the Data\n",
    "4. Evaluate Training and Validation of the generated RF-Classifiers\n",
    "\n",
    "This notebook is part of the master thesis of Luis Vollmers"
   ]
  },
  {
   "cell_type": "code",
   "execution_count": 1,
   "metadata": {},
   "outputs": [],
   "source": [
    "import math\n",
    "import rdkit\n",
    "import sklearn\n",
    "import numpy as np\n",
    "import pandas as pd\n",
    "from numpy import mean\n",
    "from numpy import interp\n",
    "from matplotlib import pyplot\n",
    "from numpy.random import randint\n",
    "from sklearn.metrics import roc_curve\n",
    "from imblearn.pipeline import Pipeline\n",
    "from imblearn.over_sampling import SMOTE\n",
    "from sklearn.metrics import roc_auc_score\n",
    "from imblearn.over_sampling import SMOTENC\n",
    "from sklearn.metrics import confusion_matrix\n",
    "from sklearn.metrics import matthews_corrcoef\n",
    "from sklearn.model_selection import ShuffleSplit\n",
    "from sklearn.model_selection import GridSearchCV\n",
    "from sklearn.metrics import classification_report\n",
    "from sklearn.ensemble import RandomForestRegressor\n",
    "from sklearn.ensemble import RandomForestClassifier\n",
    "from sklearn.model_selection import StratifiedKFold\n",
    "from sklearn.metrics import balanced_accuracy_score\n",
    "from imblearn.under_sampling import RandomUnderSampler\n",
    "from sklearn.model_selection import RandomizedSearchCV\n",
    "from sklearn.experimental import enable_halving_search_cv\n",
    "from sklearn.model_selection import HalvingRandomSearchCV"
   ]
  },
  {
   "cell_type": "markdown",
   "metadata": {},
   "source": [
    "### 0. evaluate_model\n",
    "this function performs analysis of the outer loop of the nested cross validation procedure. Hence, it takes the predictions of the outer validation set, their corresponding probabilities and their true values into account to calculate metrics like ROC, AUC, Accuracy and so on. It also saves these metrics into graphs and files."
   ]
  },
  {
   "cell_type": "code",
   "execution_count": 2,
   "metadata": {},
   "outputs": [],
   "source": [
    "def evaluate_model(outer_true,outer_pred,outer_prob):\n",
    "    \n",
    "    # print statement and list elements are appended into single arrays for convenience\n",
    "    print(\"\\nEvaluation of the Validation Set:\\n\")\n",
    "    y_true = np.hstack(outer_true)\n",
    "    y_pred = np.hstack(outer_pred)\n",
    "    y_prob = np.vstack(outer_prob)[:,-1]\n",
    "    \n",
    "    \n",
    "    # confusion matrix is printed using built in functions\n",
    "    conf_matrix = confusion_matrix(y_true, y_pred)\n",
    "    print(conf_matrix)\n",
    "    \n",
    "    \n",
    "    # classification report and other metrics are generated\n",
    "    print(classification_report(y_true, y_pred))\n",
    "    print('balanced_acc_score:\\t{}\\n'.format(balanced_accuracy_score(y_true, y_pred)))\n",
    "    print('matthews_corr_coef:\\t{}\\n'.format(matthews_corrcoef(y_true, y_pred)))\n",
    "\n",
    "\n",
    "    # Sensitivity and specificity are calculated from the confusion matrix and are then printed\n",
    "    Sensitivity = conf_matrix[0,0]/(conf_matrix[0,0]+conf_matrix[0,1])\n",
    "    Specificity = conf_matrix[1,1]/(conf_matrix[1,0]+conf_matrix[1,1]) \n",
    "    print('Sensitivity:\\t{}\\n'.format(Sensitivity))\n",
    "    print('Specificity:\\t{}\\n'.format(Specificity))\n",
    "\n",
    "    \n",
    "    # AUC is calculated from the probabilities and the true y values\n",
    "    AUC_base_model = roc_auc_score(y_true, y_prob)\n",
    "    print(\"AUC-ROC:\\t{}\\n\".format(AUC_base_model))\n",
    "    \n",
    "    # calculate and print the ROC from the aggregated (i.e. stacked) outer predictions and plot the graph\n",
    "    pyplot.figure(1,figsize=(5, 5))    \n",
    "    FPR, TPR, _ = roc_curve(y_true, y_prob)\n",
    "    pyplot.xlim([-0.01, 1.01])\n",
    "    pyplot.ylim([-0.01, 1.01])\n",
    "    pyplot.plot(FPR, TPR, 'r', label='aggregated ROC')\n",
    "    pyplot.xlabel('False Positive Rate')\n",
    "    pyplot.ylabel('True Positive Rate')\n",
    "    pyplot.legend()\n",
    "    pyplot.savefig(\"../_output/rf_cpfp_1030_agg_auc.svg\", dpi=300)\n",
    "    pyplot.show()\n",
    "    \n",
    "    # calculate the averaged ROC by iterating over the individuals outer predictions\n",
    "    pyplot.figure(0,figsize=(5, 5))\n",
    "    tprs = []\n",
    "    base_fpr = np.linspace(0, 1, 101)\n",
    "    i = 1\n",
    "    for _true, _prob in zip(outer_true,outer_prob):\n",
    "        fpr, tpr, _ = roc_curve(_true, _prob[:, 1])\n",
    "        # alpha means the opacity of the line\n",
    "        pyplot.plot(fpr, tpr, 'r', alpha=0.15,label='%s-th Outer fold' % i)\n",
    "        # interp adjusts the number of datapoints to base_fpr (101)\n",
    "        tpr = interp(base_fpr, fpr, tpr)\n",
    "        # setting the first element of tpr 0 adjusts for a possible artifact of interp()\n",
    "        tpr[0] = 0.0\n",
    "        tprs.append(tpr)\n",
    "        i = i + 1\n",
    "    \n",
    "    # calculate the standard deviation and thereby the upper and lower limits of the averaged ROC\n",
    "    tprs = np.array(tprs)\n",
    "    mean_tprs = tprs.mean(axis=0)\n",
    "    std = tprs.std(axis=0)\n",
    "    tprs_upper = np.minimum(mean_tprs + std, 1)\n",
    "    tprs_lower = mean_tprs - std\n",
    "\n",
    "    # plot the averaged ROC and output the figure to an svg file\n",
    "    pyplot.plot(base_fpr, mean_tprs, 'r', label='avr. ROC')\n",
    "    pyplot.fill_between(base_fpr, tprs_lower, tprs_upper, color='grey', alpha=0.3, label='STD+-')\n",
    "    pyplot.xlim([-0.01, 1.01])\n",
    "    pyplot.ylim([-0.01, 1.01])\n",
    "    pyplot.xlabel('False Positive Rate')\n",
    "    pyplot.ylabel('True Positive Rate')\n",
    "    pyplot.axes().set_aspect('equal', 'datalim')\n",
    "    pyplot.title('Averaged AUC-ROC')\n",
    "    pyplot.legend()\n",
    "    pyplot.savefig(\"../_output/rf_cpfp_1030_avr_auc.svg\", dpi=300)\n",
    "    pyplot.show()\n",
    "    \n",
    "    # write the aforementioned metrics into a file\n",
    "    f = open(\"../_output/rf_cpfp_1030_analysis.txt\",\"w+\")\n",
    "    f.write(str(conf_matrix)+'\\n')\n",
    "    f.write(classification_report(y_true, y_pred)+'\\n')\n",
    "    f.write('Balanced Accuracy:\\t'+str(balanced_accuracy_score(y_true, y_pred))+'\\n')\n",
    "    f.write('Matthews Coeffici:\\t'+str(matthews_corrcoef(y_true, y_pred))+'\\n')\n",
    "    f.write('Sensitivity:\\t\\t'+str(Sensitivity)+'\\n')\n",
    "    f.write('Specificity:\\t\\t'+str(Specificity)+'\\n')\n",
    "    f.write('AUC-ROC:\\t\\t'+str(AUC_base_model)+'\\n')\n",
    "    f.close() "
   ]
  },
  {
   "cell_type": "markdown",
   "metadata": {},
   "source": [
    "### 0. evaluate_training\n",
    "Does exactly the same as evaluate training but does not output the results to a file"
   ]
  },
  {
   "cell_type": "code",
   "execution_count": 3,
   "metadata": {},
   "outputs": [],
   "source": [
    "def evaluate_training(inner_true,inner_pred,inner_prob):\n",
    "    \n",
    "    # print statement and list elements are appended into single arrays for convenience\n",
    "    print(\"Evaluation of the Training Set:\\n\")\n",
    "    training_true = np.hstack(inner_true)\n",
    "    training_pred = np.hstack(inner_pred)\n",
    "    training_prob = np.vstack(inner_prob)\n",
    "\n",
    "\n",
    "    # confusion matrix is printed using built in functions\n",
    "    conf_matrix = confusion_matrix(training_true, training_pred)\n",
    "    print(conf_matrix)\n",
    "\n",
    "\n",
    "    # calculate and print the ROC from the aggregated (i.e. stacked) inner predictions and plot the graph\n",
    "    pyplot.figure(3,figsize=(5, 5))\n",
    "    FPR, TPR, _ = roc_curve(training_true, training_prob[:,1])\n",
    "    pyplot.plot(FPR, TPR, 'b', label='Base Model')\n",
    "    pyplot.xlim([-0.01, 1.01])\n",
    "    pyplot.ylim([-0.01, 1.01])\n",
    "    pyplot.xlabel('False Positive Rate')\n",
    "    pyplot.ylabel('True Positive Rate')\n",
    "    pyplot.title('K-Fold-aggregated AUC-ROC')\n",
    "    pyplot.legend()\n",
    "    pyplot.show()\n",
    "\n",
    "    # calculate the averaged ROC by iterating over the individuals inner predictions\n",
    "    tprs = []\n",
    "    base_fpr = np.linspace(0, 1, 101)\n",
    "    pyplot.figure(4,figsize=(5, 5))\n",
    "    i = 1\n",
    "    for _true, _prob in zip(inner_true,inner_prob):\n",
    "        fpr, tpr, _ = roc_curve(_true, _prob[:, 1])\n",
    "        pyplot.plot(fpr, tpr, 'b', alpha=0.15, label='%s-th outer Fold' % i)\n",
    "        tpr = interp(base_fpr, fpr, tpr)\n",
    "        tpr[0] = 0.0\n",
    "        tprs.append(tpr)\n",
    "        i = i + 1\n",
    "\n",
    "    # calculate the standard deviation and thereby the upper and lower limits of the averaged ROC\n",
    "    tprs = np.array(tprs)\n",
    "    mean_tprs = tprs.mean(axis=0)\n",
    "    std = tprs.std(axis=0)\n",
    "    tprs_upper = np.minimum(mean_tprs + std, 1)\n",
    "    tprs_lower = mean_tprs - std\n",
    "\n",
    "    # plot the averaged ROC and output the figure to an svg file\n",
    "    pyplot.plot(base_fpr, mean_tprs, 'b', label='avr. ROC')\n",
    "    pyplot.fill_between(base_fpr, tprs_lower, tprs_upper, color='grey', alpha=0.3, label='STD+-')\n",
    "    pyplot.xlim([-0.01, 1.01])\n",
    "    pyplot.ylim([-0.01, 1.01])\n",
    "    pyplot.xlabel('False Positive Rate')\n",
    "    pyplot.ylabel('True Positive Rate')\n",
    "    pyplot.axes().set_aspect('equal', 'datalim')\n",
    "    pyplot.title('Averaged AUC-ROC')\n",
    "    pyplot.legend()\n",
    "    pyplot.show()"
   ]
  },
  {
   "cell_type": "markdown",
   "metadata": {},
   "source": [
    "### 1. Combine Fingerprints and Cell Painting"
   ]
  },
  {
   "cell_type": "code",
   "execution_count": 4,
   "metadata": {},
   "outputs": [],
   "source": [
    "# read the dataframe into RAM\n",
    "cp = pd.read_csv('../../02-CorrectingAssays/_output/cp_1030.csv')\n",
    "fp = pd.read_csv('../../03-GenerateFingerprints/_output/fp_1030.csv')\n",
    "\n",
    "gi_fp = pd.read_csv('../../07-FeatureImportanceFingerprints/_output/gi_rf_fp_1030.csv')\n",
    "en_fp = pd.read_csv('../../07-FeatureImportanceFingerprints/_output/en_rf_fp_1030.csv')\n",
    "\n",
    "\n",
    "gi_cp = pd.read_csv('../../06-FeatureImportanceCellPainting/_output/gi_rf_cp_1030.csv')\n",
    "pca_cp = pd.read_csv('../../06-FeatureImportanceCellPainting/_output/pca_rf_cp_1030_top100.txt',header=None)\n",
    "mrmr_cp = pd.read_csv('../../06-FeatureImportanceCellPainting/_output/mrmr_rf_cp_1030_top30.txt',header=None)\n",
    "PC_90_cp = pd.read_csv(\"../../06-FeatureImportanceCellPainting/_output/pca_rf_cp_1030_info.txt\", sep=\" \").columns[0]\n",
    "\n"
   ]
  },
  {
   "cell_type": "code",
   "execution_count": 5,
   "metadata": {},
   "outputs": [
    {
     "data": {
      "text/plain": [
       "['Cells_AreaShape_Area',\n",
       " 'Nuclei_Correlation_Costes_Mito_DNA',\n",
       " 'Cells_Correlation_K_Mito_DNA',\n",
       " 'Cytoplasm_Texture_Entropy_Mito_10_0',\n",
       " 'Cytoplasm_Texture_Entropy_RNA_10_0',\n",
       " 'Cells_Texture_Entropy_ER_10_0',\n",
       " 'Cytoplasm_Texture_Entropy_Mito_3_0',\n",
       " 'Cytoplasm_Correlation_K_AGP_ER',\n",
       " 'Nuclei_Correlation_Costes_ER_DNA',\n",
       " 'Cells_Correlation_K_AGP_DNA',\n",
       " 'Cells_Texture_DifferenceVariance_ER_3_0',\n",
       " 'Cytoplasm_Texture_Entropy_RNA_3_0',\n",
       " 'Cells_Texture_DifferenceVariance_DNA_3_0',\n",
       " 'Cytoplasm_Correlation_K_RNA_AGP',\n",
       " 'Nuclei_Correlation_K_ER_DNA',\n",
       " 'Cells_Correlation_K_RNA_AGP',\n",
       " 'Cytoplasm_Texture_Entropy_RNA_5_0',\n",
       " 'Nuclei_Granularity_14_Mito',\n",
       " 'Cells_RadialDistribution_MeanFrac_DNA_1of4',\n",
       " 'Cells_Granularity_15_Mito',\n",
       " 'Nuclei_Texture_DifferenceVariance_DNA_3_0',\n",
       " 'Cytoplasm_Texture_SumEntropy_RNA_5_0',\n",
       " 'Cells_Intensity_MassDisplacement_AGP',\n",
       " 'Cytoplasm_Granularity_14_Mito',\n",
       " 'Nuclei_Texture_Gabor_AGP_3',\n",
       " 'Cytoplasm_AreaShape_Area',\n",
       " 'Nuclei_Correlation_Costes_DNA_ER',\n",
       " 'Nuclei_Texture_DifferenceVariance_ER_3_0',\n",
       " 'Cytoplasm_Texture_SumEntropy_RNA_3_0',\n",
       " 'Cells_Correlation_K_ER_DNA']"
      ]
     },
     "execution_count": 5,
     "metadata": {},
     "output_type": "execute_result"
    }
   ],
   "source": [
    "mrmr_cp[0].to_list()"
   ]
  },
  {
   "cell_type": "code",
   "execution_count": 6,
   "metadata": {},
   "outputs": [],
   "source": [
    "# Assign meta_cols which happen to be the first 10 columns of either cp or fp\n",
    "meta_cols = cp.columns[:10].to_list()\n",
    "\n",
    "# get the 100 most important (gini impurity) features for cell painting and fingerprints (they need to be strings)\n",
    "mrmr_cp_top100 = mrmr_cp[0].to_list()\n",
    "pca_cp_top100 = pca_cp.iloc[:,0].to_list()\n",
    "gi_cp_top100 = gi_cp.iloc[:100,:].Feature.to_list()\n",
    "\n",
    "gi_fp_top100 = gi_fp.iloc[:100,:].Feature.astype('str').to_list()\n",
    "en_fp_top100 = en_fp.iloc[:100,:].Feature.astype('str').to_list()\n",
    "\n",
    "# combine the lists for cp and fp using the or operator on set converted lists (might be less than 200 in total)\n",
    "cp_top = list(set(pca_cp_top100) | set(gi_cp_top100) | set(mrmr_cp_top100))\n",
    "fp_top = list(set(en_fp_top100) | set(gi_fp_top100))\n",
    "\n",
    "df = pd.concat([cp[meta_cols+cp_top],fp[fp_top]],axis=1)"
   ]
  },
  {
   "cell_type": "code",
   "execution_count": 7,
   "metadata": {},
   "outputs": [
    {
     "data": {
      "text/plain": [
       "['CAN_SMILES',\n",
       " 'CPD_SMILES',\n",
       " 'Metadata_broad_sample',\n",
       " 'Metadata_Plate_Map_Name',\n",
       " 'Metadata_ASSAY_WELL_ROLE',\n",
       " 'Metadata_Plate',\n",
       " 'SINGLE_CONC',\n",
       " 'PUBCHEM_ACTIVITY_SCORE',\n",
       " 'PUBCHEM_ACTIVITY_OUTCOME',\n",
       " 'Metadata_mmoles_per_liter',\n",
       " 'Cytoplasm_Texture_DifferenceEntropy_ER_3_0']"
      ]
     },
     "execution_count": 7,
     "metadata": {},
     "output_type": "execute_result"
    }
   ],
   "source": [
    "df.columns[:11].to_list()"
   ]
  },
  {
   "cell_type": "markdown",
   "metadata": {},
   "source": [
    "### 2. Prepare the Dataset for Training\n",
    "- The dataset is read from the second step of the project into RAM\n",
    "- The second step was conducted to clean the CP Dataframe from erroneous or duplicate entries and for proper calculation of Concentration Medians\n",
    "- For Prediction only the numerical values from the input columns are necessary\n",
    "- For SMOTE sampling the parameters should be adjusted to the actual ratios of the minority/majority class\n",
    "- therefore two variables are calculated that are later inputted into the SMOTE function"
   ]
  },
  {
   "cell_type": "code",
   "execution_count": 8,
   "metadata": {},
   "outputs": [],
   "source": [
    "# assign input columns of the combination data frame\n",
    "input_cols = df.columns[10:]\n",
    "\n",
    "X = np.array(df.loc[:,input_cols])\n",
    "df['PUBCHEM_ACTIVITY_OUTCOME'] = df['PUBCHEM_ACTIVITY_OUTCOME'].astype('category').cat.codes\n",
    "y = df['PUBCHEM_ACTIVITY_OUTCOME'].values\n",
    "\n",
    "# get the number of samples of actives and inactives of the assay\n",
    "N_1 = df.PUBCHEM_ACTIVITY_OUTCOME.value_counts().to_list()[0]\n",
    "N_2 = df.PUBCHEM_ACTIVITY_OUTCOME.value_counts().to_list()[1]\n",
    "\n",
    "# calculate the relative amount of the minority class to majority class for input in the SMOTE function\n",
    "sampling_prsnt = round(np.exp(-abs(math.log(N_1/N_2))),2)\n",
    "sampling_smote = 2 * sampling_prsnt"
   ]
  },
  {
   "cell_type": "markdown",
   "metadata": {},
   "source": [
    "### 3. Train a Random Forest Model with the Data\n",
    "- For splitting the data into sets used in outer validation a stratified 5-Fold is chosen\n",
    "- the cell then iterates through 5 different folds\n",
    "- for every fold X- & y-values for outer validation (test) and inner validation (train) are declared\n",
    "- for the inner validation a 5 fold CV is performed on the train data\n",
    "- SMOTE and Randomundersampling are only used if a condition is met, i.e. if the current ratio between min/maj < 0.5\n",
    "- and if the ratio is less than 75 after oversampling (which should be a separate if cond. only applicable to oversampling not to under and oversampling)\n",
    "- SMOTE is only used on the inner Dataset so that the outer validation only uses non-synthetic data points\n",
    "- A parameter grid is searched via halvingrandomCV with 3600 Possible parameter combinations per Fold-Loop from which 500 are sampled\n",
    "- the best RF-estimator is then fit to the training data\n",
    "- after fitting the RF-estimator predicts the inner test set first (just for control) and then the outer test set which was not used nor for fitting, neither for hyperparameter optimization.\n",
    "- for every fold-loop the results are then appended to predefined lists which will be input into the evaluate_* functions"
   ]
  },
  {
   "cell_type": "code",
   "execution_count": 9,
   "metadata": {},
   "outputs": [],
   "source": [
    "from imblearn.over_sampling import SMOTENC"
   ]
  },
  {
   "cell_type": "code",
   "execution_count": 51,
   "metadata": {
    "scrolled": false
   },
   "outputs": [
    {
     "name": "stdout",
     "output_type": "stream",
     "text": [
      "outer split method:\tStratifiedKFold(n_splits=5, random_state=None, shuffle=False)\n",
      "\n",
      "best sets of parameters:\n",
      "{'random_state': 42, 'oob_score': False, 'n_jobs': -1, 'n_estimators': 200, 'min_samples_split': 12, 'min_samples_leaf': 5, 'max_features': 46, 'max_depth': 10, 'criterion': 'entropy', 'class_weight': 'balanced', 'bootstrap': False}\n",
      "\n",
      "best sets of parameters:\n",
      "{'random_state': 42, 'oob_score': False, 'n_jobs': -1, 'n_estimators': 100, 'min_samples_split': 7, 'min_samples_leaf': 11, 'max_features': 44, 'max_depth': 11, 'criterion': 'entropy', 'class_weight': 'balanced', 'bootstrap': False}\n",
      "\n",
      "best sets of parameters:\n",
      "{'random_state': 42, 'oob_score': False, 'n_jobs': -1, 'n_estimators': 300, 'min_samples_split': 6, 'min_samples_leaf': 7, 'max_features': 42, 'max_depth': 19, 'criterion': 'entropy', 'class_weight': 'balanced', 'bootstrap': False}\n",
      "\n",
      "best sets of parameters:\n",
      "{'random_state': 42, 'oob_score': False, 'n_jobs': -1, 'n_estimators': 300, 'min_samples_split': 5, 'min_samples_leaf': 5, 'max_features': 46, 'max_depth': 11, 'criterion': 'entropy', 'class_weight': None, 'bootstrap': False}\n",
      "\n",
      "best sets of parameters:\n",
      "{'random_state': 42, 'oob_score': False, 'n_jobs': -1, 'n_estimators': 500, 'min_samples_split': 6, 'min_samples_leaf': 9, 'max_features': 48, 'max_depth': 10, 'criterion': 'entropy', 'class_weight': 'balanced', 'bootstrap': False}\n",
      "\n"
     ]
    }
   ],
   "source": [
    "# %%time\n",
    "\n",
    "best_est = open(\"../_output/best_est_1030.txt\",\"w+\")\n",
    "\n",
    "# define lists to append the model outputs to\n",
    "outer_pred = []\n",
    "outer_true = []\n",
    "outer_prob = []\n",
    "\n",
    "inner_pred = []\n",
    "inner_true = []\n",
    "inner_prob = []\n",
    "\n",
    "# starter outer validation Loop\n",
    "skf = StratifiedKFold(n_splits=5)\n",
    "print(\"outer split method:\\t{}\\n\".format(skf))\n",
    "for train_index, test_index in skf.split(X, y):\n",
    "    \n",
    "    # define Datasets, Cross-Validation Metrics and Model-Type\n",
    "    X_innerCV, X_outerCV = X[train_index], X[test_index]\n",
    "    y_innerCV, y_outerCV = y[train_index], y[test_index]\n",
    "    cv = ShuffleSplit(n_splits=5,test_size=0.25, random_state=0)\n",
    "    rf = RandomForestClassifier(n_jobs=-1)\n",
    "    \n",
    "    \n",
    "    # SMOTE-Sampling is used to over sample the minority class and the majority class is undersampled\n",
    "    cat_features = range(X.shape[1]-len(fp_top),X.shape[1])\n",
    "    if (sampling_prsnt < 0.5) & (sampling_smote < 0.75):\n",
    "        over = SMOTENC(categorical_features=cat_features , sampling_strategy=sampling_smote, k_neighbors=30)\n",
    "        under = RandomUnderSampler(sampling_strategy=0.75)\n",
    "        steps = [('o', over), ('u', under)]\n",
    "        pipeline = Pipeline(steps=steps)\n",
    "        X_innerCV, y_innerCV = pipeline.fit_resample(X_innerCV, y_innerCV)\n",
    "    \n",
    "    # Hyperparameter tuning with halvingRandomSearchCV\n",
    "    p_grid = {\n",
    "            'max_depth': [randint(10,20)],\n",
    "            'max_features': [randint(40,50)],\n",
    "            'min_samples_leaf': [5,6,7,8,9,10,11,12,13],\n",
    "            'min_samples_split': [4,5,6,7,8,9,10,11,12,13],\n",
    "            'n_estimators':[100, 200, 300, 400, 500],\n",
    "            'bootstrap': [False,True],\n",
    "            'oob_score': [False],\n",
    "            'random_state': [42],\n",
    "            'criterion': ['gini', 'entropy'],\n",
    "            'n_jobs': [-1],\n",
    "            'class_weight' : [None, 'balanced']\n",
    "                      }\n",
    "    rand_search = HalvingRandomSearchCV(estimator=rf, param_distributions=p_grid, factor=3, random_state=42, n_jobs=-1, verbose=0, cv=cv, n_candidates=500)\n",
    "    rand_search.fit(X_innerCV, y_innerCV)\n",
    "    print(\"best sets of parameters:\\n{}\\n\".format(rand_search.best_params_))\n",
    "    \n",
    "    best_est.write(str(rand_search.best_params_)+\"\\n\\n\")\n",
    "    \n",
    "    # use the best estimator and fit it to the DS it was trained on and then predict the DS for outer validation\n",
    "    clf = rand_search.best_estimator_\n",
    "    clf.fit(X_innerCV,y_innerCV)\n",
    "    \n",
    "    # predict inner Cross-Validation set to checm overfitting\n",
    "    y_inner_pred = clf.predict(X_innerCV).flatten()\n",
    "    y_inner_prob = clf.predict_proba(X_innerCV)#[:,1]\n",
    "    \n",
    "    # predict outer Cross-Validation set to check for the model performance on unseen data\n",
    "    y_pred = clf.predict(X_outerCV).flatten()\n",
    "    y_prob = clf.predict_proba(X_outerCV)#[:,1]\n",
    "    \n",
    "    \n",
    "    # append the inner predictions and the true values to the output-lists\n",
    "    inner_true.append(y_innerCV)\n",
    "    inner_pred.append(y_inner_pred)\n",
    "    inner_prob.append(y_inner_prob)\n",
    "\n",
    "    # append the outer predictions and the true values to the output-lists\n",
    "    outer_true.append(y_outerCV)\n",
    "    outer_pred.append(y_pred)\n",
    "    outer_prob.append(y_prob)\n",
    "\n",
    "best_est.close()"
   ]
  },
  {
   "cell_type": "markdown",
   "metadata": {},
   "source": [
    "### 4. Evaluate Training and Validation of the generated RF-Classifiers \n",
    "- first evaluate the Training set and see how well the inner test set was predicted (usually overfitted)\n",
    "- also calculate balanced acc., Matthews CorrCoeff, and so on\n",
    "- Do the same for the outer test set that was predicted by the best estimator in the prior step"
   ]
  },
  {
   "cell_type": "code",
   "execution_count": 50,
   "metadata": {},
   "outputs": [
    {
     "name": "stdout",
     "output_type": "stream",
     "text": [
      "Evaluation of the Training Set:\n",
      "\n",
      "[[6360   40]\n",
      " [  21 8509]]\n"
     ]
    },
    {
     "data": {
      "image/png": "[encoded data removed]",
      "text/plain": [
       "<Figure size 360x360 with 1 Axes>"
      ]
     },
     "metadata": {
      "needs_background": "light"
     },
     "output_type": "display_data"
    },
    {
     "name": "stderr",
     "output_type": "stream",
     "text": [
      "/home/luis/anaconda3/envs/my-rdkit-env/lib/python3.7/site-packages/ipykernel_launcher.py:54: MatplotlibDeprecationWarning: Adding an axes using the same arguments as a previous axes currently reuses the earlier instance.  In a future version, a new instance will always be created and returned.  Meanwhile, this warning can be suppressed, and the future behavior ensured, by passing a unique label to each axes instance.\n"
     ]
    },
    {
     "data": {
      "image/png": "[encoded data removed]",
      "text/plain": [
       "<Figure size 360x360 with 1 Axes>"
      ]
     },
     "metadata": {
      "needs_background": "light"
     },
     "output_type": "display_data"
    },
    {
     "name": "stdout",
     "output_type": "stream",
     "text": [
      "\n",
      "Evaluation of the Validation Set:\n",
      "\n",
      "[[ 143  666]\n",
      " [ 687 3525]]\n",
      "              precision    recall  f1-score   support\n",
      "\n",
      "           0       0.17      0.18      0.17       809\n",
      "           1       0.84      0.84      0.84      4212\n",
      "\n",
      "    accuracy                           0.73      5021\n",
      "   macro avg       0.51      0.51      0.51      5021\n",
      "weighted avg       0.73      0.73      0.73      5021\n",
      "\n",
      "balanced_acc_score:\t0.5068280103817805\n",
      "\n",
      "matthews_corr_coef:\t0.013515892655123202\n",
      "\n",
      "Sensitivity:\t0.17676143386897405\n",
      "\n",
      "Specificity:\t0.8368945868945868\n",
      "\n",
      "AUC-ROC:\t0.5192853545758366\n",
      "\n"
     ]
    },
    {
     "data": {
      "image/png": "[encoded data removed]",
      "text/plain": [
       "<Figure size 360x360 with 1 Axes>"
      ]
     },
     "metadata": {
      "needs_background": "light"
     },
     "output_type": "display_data"
    },
    {
     "name": "stderr",
     "output_type": "stream",
     "text": [
      "/home/luis/anaconda3/envs/my-rdkit-env/lib/python3.7/site-packages/ipykernel_launcher.py:74: MatplotlibDeprecationWarning: Adding an axes using the same arguments as a previous axes currently reuses the earlier instance.  In a future version, a new instance will always be created and returned.  Meanwhile, this warning can be suppressed, and the future behavior ensured, by passing a unique label to each axes instance.\n"
     ]
    },
    {
     "data": {
      "image/png": "[encoded data removed]",
      "text/plain": [
       "<Figure size 360x360 with 1 Axes>"
      ]
     },
     "metadata": {
      "needs_background": "light"
     },
     "output_type": "display_data"
    }
   ],
   "source": [
    "# %%time \n",
    "\n",
    "# evaluate the model und the training phase\n",
    "evaluate_training(inner_true,inner_pred,inner_prob)\n",
    "evaluate_model(outer_true,outer_pred,outer_prob)"
   ]
  },
  {
   "cell_type": "markdown",
   "metadata": {},
   "source": [
    "Quellen:\n",
    "- https://stats.stackexchange.com/questions/186337/average-roc-for-repeated-10-fold-cross-validation-with-probability-estimates\n",
    "- https://towardsdatascience.com/hyperparameter-tuning-the-random-forest-in-python-using-scikit-learn-28d2aa77dd74\n",
    "- http://scikit-learn.org/stable/auto_examples/model_selection/plot_nested_cross_validation_iris.html\n",
    "- https://machinelearningmastery.com/nested-cross-validation-for-machine-learning-with-python/\n",
    "- https://www.google.com/search?q=nested+cross+validation+sklearn&oq=nested+cross+validation+sklearn&aqs=chrome..69i57j0i22i30l5.17640j1j9&sourceid=chrome&ie=UTF-8"
   ]
  }
 ],
 "metadata": {
  "kernelspec": {
   "display_name": "Python 3",
   "language": "python",
   "name": "python3"
  },
  "language_info": {
   "codemirror_mode": {
    "name": "ipython",
    "version": 3
   },
   "file_extension": ".py",
   "mimetype": "text/x-python",
   "name": "python",
   "nbconvert_exporter": "python",
   "pygments_lexer": "ipython3",
   "version": "3.7.9"
  }
 },
 "nbformat": 4,
 "nbformat_minor": 4
}
