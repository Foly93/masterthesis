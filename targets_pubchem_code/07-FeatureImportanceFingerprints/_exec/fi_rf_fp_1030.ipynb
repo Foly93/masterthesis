{
 "cells": [
  {
   "cell_type": "code",
   "execution_count": null,
   "metadata": {},
   "outputs": [],
   "source": [
    "# make a nice documentation"
   ]
  },
  {
   "cell_type": "code",
   "execution_count": 78,
   "metadata": {},
   "outputs": [],
   "source": [
    "import math\n",
    "import matplotlib\n",
    "import numpy as np\n",
    "import pandas as pd\n",
    "from math import ceil\n",
    "import random as rand\n",
    "from sklearn import datasets\n",
    "import matplotlib.pyplot as plt\n",
    "from scipy.stats import spearmanr\n",
    "from sklearn import preprocessing\n",
    "from collections import defaultdict\n",
    "from scipy.cluster import hierarchy\n",
    "from sklearn.decomposition import PCA\n",
    "from sklearn.preprocessing import StandardScaler\n",
    "from sklearn.datasets import make_classification\n",
    "from sklearn.ensemble import ExtraTreesClassifier\n",
    "from sklearn.feature_selection import VarianceThreshold\n",
    "\n",
    "plt.rcParams[\"font.family\"] = \"Charter\"\n",
    "plt.style.use('seaborn-deep')\n",
    "\n",
    "# source: https://github.com/StatQuest/pca_demo/blob/master/pca_demo.py\n",
    "# https://scikit-learn.org/stable/auto_examples/ensemble/plot_forest_importances.html\n",
    "# https://scikit-learn.org/stable/auto_examples/inspection/plot_permutation_importance_multicollinear.html"
   ]
  },
  {
   "cell_type": "code",
   "execution_count": 79,
   "metadata": {},
   "outputs": [],
   "source": [
    "# load the corresponding assay into RAM\n",
    "\n",
    "# declare the filename\n",
    "file='../../03-GenerateFingerprints/_output/fp_1030.csv'\n",
    "# read the file and define the Inputs (X) and targets (y)\n",
    "df=pd.read_csv(file)\n",
    "X = df.iloc[:,10:]\n",
    "y = df.PUBCHEM_ACTIVITY_OUTCOME"
   ]
  },
  {
   "cell_type": "code",
   "execution_count": 80,
   "metadata": {
    "scrolled": false
   },
   "outputs": [],
   "source": [
    "# removing zero variance features from the Dataset X\n",
    "selector = VarianceThreshold()\n",
    "X_var0 = selector.fit_transform(X)\n",
    "ids = selector.get_support(indices=True).tolist()\n",
    "X_var0 = pd.DataFrame(X_var0, columns=X.columns[ids])\n",
    "\n"
   ]
  },
  {
   "cell_type": "code",
   "execution_count": 99,
   "metadata": {},
   "outputs": [],
   "source": [
    "# Build a forest and compute the impurity-based feature importances\n",
    "\n",
    "# instantiate the forest model\n",
    "forest = ExtraTreesClassifier(criterion='gini',n_estimators=250,\n",
    "                              random_state=0)\n",
    "\n",
    "# fit the model to the inputs and targets\n",
    "forest.fit(X_var0, y)\n",
    "# initialize the importances of each individual feature\n",
    "gini_importances = forest.feature_importances_\n",
    "# report the standard deviation of all importance scores\n",
    "gini_std = np.std([tree.feature_importances_ for tree in forest.estimators_], axis=0)\n",
    "\n",
    "# get the indiced in order of highest importance\n",
    "gini_indices = np.argsort(gini_importances)[::-1]\n",
    "# get the features in order of highest importance\n",
    "gini_features = X_var0.columns[np.argsort(gini_importances)[::-1]]"
   ]
  },
  {
   "cell_type": "code",
   "execution_count": 100,
   "metadata": {},
   "outputs": [],
   "source": [
    "# Build a forest and compute the entropy-based feature importances\n",
    "\n",
    "# instantiate the forest model\n",
    "forest = ExtraTreesClassifier(criterion='entropy',n_estimators=250,\n",
    "                              random_state=0)\n",
    "\n",
    "# fit the model to the inputs and targets\n",
    "forest.fit(X_var0, y)\n",
    "# initialize the importances of each individual feature\n",
    "entr_importances = forest.feature_importances_\n",
    "# report the standard deviation of all importance scores\n",
    "entr_std = np.std([tree.feature_importances_ for tree in forest.estimators_], axis=0)\n",
    "\n",
    "# get the indiced in order of highest importance\n",
    "entr_indices = np.argsort(entr_importances)[::-1]\n",
    "# get the features in order of highest importance\n",
    "entr_features = X_var0.columns[np.argsort(entr_importances)[::-1]]"
   ]
  },
  {
   "cell_type": "code",
   "execution_count": 101,
   "metadata": {},
   "outputs": [
    {
     "data": {
      "image/png": "[encoded data removed]",
      "text/plain": [
       "<Figure size 576x288 with 1 Axes>"
      ]
     },
     "metadata": {
      "needs_background": "light"
     },
     "output_type": "display_data"
    }
   ],
   "source": [
    "# Plot the impurity-based feature importances of the forest\n",
    "plt.figure(1,figsize=[8,4])\n",
    "plt.title(\"Feature importances\")\n",
    "plt.scatter(range(X_var0.shape[1]), gini_importances[gini_indices],\n",
    "        color=\"r\", marker='.',alpha=0.3)\n",
    "plt.scatter(range(X_var0.shape[1]), entr_importances[entr_indices],\n",
    "        color=\"b\", marker='.',alpha=0.3)\n",
    "plt.xlabel(\"Features\")\n",
    "plt.ylabel(\"Gini Impurity Score\")\n",
    "plt.xlim([-1, X_var0.shape[1]])\n",
    "plt.savefig(\"../_output/gi_rf_fp_1030.svg\", dpi=300)\n",
    "plt.show()"
   ]
  },
  {
   "cell_type": "code",
   "execution_count": 103,
   "metadata": {},
   "outputs": [],
   "source": [
    "# Print the feature ranking\n",
    "\n",
    "# create a pandas dataframe with all relevant information about the Gini impurity based feature importance\n",
    "gi_fi = pd.DataFrame(columns=['Ranking','Feature','Score','StdDev'], index=range(len(gini_importances)))\n",
    "gi_fi['Ranking'] = range(1,len(gini_importances)+1)\n",
    "gi_fi['Feature'] = gini_features\n",
    "gi_fi['Score'] = gini_importances[gini_indices]\n",
    "gi_fi['StdDev'] = gini_std[gini_indices]\n",
    "\n",
    "# create a pandas dataframe with all relevant information about the entropy based feature importance\n",
    "en_fi = pd.DataFrame(columns=['Ranking','Feature','Score','StdDev'], index=range(len(entr_importances)))\n",
    "en_fi['Ranking'] = range(1,len(entr_importances)+1)\n",
    "en_fi['Feature'] = entr_features\n",
    "en_fi['Score'] = entr_importances[entr_indices]\n",
    "en_fi['StdDev'] = entr_std[entr_indices]"
   ]
  },
  {
   "cell_type": "code",
   "execution_count": 106,
   "metadata": {},
   "outputs": [],
   "source": [
    "# Gini impurity based feature importance is exported along with standard deviation and the feature names\n",
    "gi_fi.to_csv('../_output/gi_rf_fp_1030.csv',index=False)\n",
    "# Gini impurity based feature importance is exported along with standard deviation and the feature names\n",
    "en_fi.to_csv('../_output/en_rf_fp_1030.csv',index=False)"
   ]
  }
 ],
 "metadata": {
  "kernelspec": {
   "display_name": "Python [conda env:my-rdkit-env] *",
   "language": "python",
   "name": "conda-env-my-rdkit-env-py"
  },
  "language_info": {
   "codemirror_mode": {
    "name": "ipython",
    "version": 3
   },
   "file_extension": ".py",
   "mimetype": "text/x-python",
   "name": "python",
   "nbconvert_exporter": "python",
   "pygments_lexer": "ipython3",
   "version": "3.7.9"
  }
 },
 "nbformat": 4,
 "nbformat_minor": 4
}
