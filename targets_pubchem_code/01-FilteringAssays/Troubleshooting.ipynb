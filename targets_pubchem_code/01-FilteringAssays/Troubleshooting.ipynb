{
 "cells": [
  {
   "cell_type": "markdown",
   "metadata": {},
   "source": [
    "# Troubleshooting\n",
    "\n",
    "Duplicate values have been found in the cp-annotations aswell as the pubchem-assay files. Those facts have been discovered in the cells below\n",
    "\n",
    "1. Find the reason for duplicates in the cp-annotations\n",
    "2. Find the reason for duplicates in the pubchem-assay files\n",
    "\n",
    "For '1.' I have to revisit my old code and find out how I generated the information of the cp-annotations. However the paper claims that they used 30616 unique compounds. A thorough analysis is therefor necessary. It is possible that they used tautomers that are represented by the same InChI and/or SMILES."
   ]
  },
  {
   "cell_type": "code",
   "execution_count": 47,
   "metadata": {},
   "outputs": [],
   "source": [
    "import pandas as pd\n",
    "# read the cell-painting data\n",
    "cp_annotations = pd.read_csv('~/masterthesis/input/cp_annotations.csv')\n",
    "# read the assay information of the pubchem assay\n",
    "pubchem_ASSAYNUMBER = pd.read_csv('tox_assays/inchikeys_1030.csv')"
   ]
  },
  {
   "cell_type": "markdown",
   "metadata": {},
   "source": [
    "### Duplicates in the cp-annotations uncovered\n",
    "\n",
    "- 'Metadata_broad_sample' is the only unique column determined by drop_duplicates\n",
    "- when using drop_duplicates on the chemical identifiers the number of rows decreases"
   ]
  },
  {
   "cell_type": "code",
   "execution_count": 46,
   "metadata": {},
   "outputs": [
    {
     "data": {
      "text/plain": [
       "(30616, 30616, 26039, 30409)"
      ]
     },
     "execution_count": 46,
     "metadata": {},
     "output_type": "execute_result"
    }
   ],
   "source": [
    "cp_shape = cp_annotations.shape[0]\n",
    "cp_broad_shape = cp_annotations.drop_duplicates(subset=['Metadata_broad_sample']).shape[0]\n",
    "cp_inchi_shape = cp_annotations.drop_duplicates(subset=['inchikey']).shape[0]\n",
    "cp_smiles_shape = cp_annotations.drop_duplicates(subset=['CPD_SMILES']).shape[0]\n",
    "\n",
    "cp_shape, cp_broad_shape, cp_inchi_shape, cp_smiles_shape"
   ]
  },
  {
   "cell_type": "markdown",
   "metadata": {},
   "source": [
    "### Duplicates in the pubchem-assays\n",
    "\n",
    "- dropping duplicates reveals that there are duplicates in the pubchem data aswell"
   ]
  },
  {
   "cell_type": "code",
   "execution_count": 50,
   "metadata": {},
   "outputs": [
    {
     "data": {
      "text/plain": [
       "(220365, 216847)"
      ]
     },
     "execution_count": 50,
     "metadata": {},
     "output_type": "execute_result"
    }
   ],
   "source": [
    "pubchem_shape = pubchem_ASSAYNUMBER.shape[0]\n",
    "pubchem_inchi_shape = pubchem_ASSAYNUMBER.drop_duplicates(subset=['inchikey']).shape[0]\n",
    "\n",
    "pubchem_shape, pubchem_inchi_shape"
   ]
  }
 ],
 "metadata": {
  "kernelspec": {
   "display_name": "Python 3",
   "language": "python",
   "name": "python3"
  },
  "language_info": {
   "codemirror_mode": {
    "name": "ipython",
    "version": 3
   },
   "file_extension": ".py",
   "mimetype": "text/x-python",
   "name": "python",
   "nbconvert_exporter": "python",
   "pygments_lexer": "ipython3",
   "version": "3.8.3"
  }
 },
 "nbformat": 4,
 "nbformat_minor": 4
}
